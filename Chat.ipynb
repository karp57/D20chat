{
 "cells": [
  {
   "cell_type": "markdown",
   "metadata": {},
   "source": [
    "# Как я делал самую ненужную вещь в мире"
   ]
  },
  {
   "cell_type": "markdown",
   "metadata": {},
   "source": [
    "Итак, передо мной стояла следующая задача: поменять название беседы класса на $9 + \\frac{hour}{2400}$, \n",
    "где $hour$ -- число прошедших с начала каникул до текущего момента часов, дождаться следующего момента времени, когда на часах будет сколько-нибудь часов ровно, а затем менять его аналогичным образом каждый час."
   ]
  },
  {
   "cell_type": "markdown",
   "metadata": {},
   "source": [
    "Мы собираемся работать с vk в python3. Поэтому из терминала сначала (если ещё не установлены) стоит установить нужные библиотеки:"
   ]
  },
  {
   "cell_type": "markdown",
   "metadata": {},
   "source": [
    "<code>pip3 install vk</code>\n",
    "<br />\n",
    "<code>pip3 install vk_api</code>"
   ]
  },
  {
   "cell_type": "markdown",
   "metadata": {},
   "source": [
    "Дальнейшее действо происходило в специальной папке D20chat. Там находятся файл chat.py -- в нём лежит код, и файл fin.txt с данными для входа в ВК. fin.txt состоит из одной строки, которая имеет следующий вид:"
   ]
  },
  {
   "cell_type": "markdown",
   "metadata": {},
   "source": [
    "<code>login password chat_id</code>"
   ]
  },
  {
   "cell_type": "markdown",
   "metadata": {},
   "source": [
    "(Тут <code>login</code> и <code>password</code> -- мои логин и пароль при входе в ВК, <code>chat_id</code> -- мой chat_id чата d20 в ВК)"
   ]
  },
  {
   "cell_type": "markdown",
   "metadata": {},
   "source": [
    "Перейду, наконец, к содержанию chat.py. Сперва -- подключение нужных библиотек."
   ]
  },
  {
   "cell_type": "code",
   "execution_count": 18,
   "metadata": {},
   "outputs": [],
   "source": [
    "import time\n",
    "import vk\n",
    "import vk_api"
   ]
  },
  {
   "cell_type": "markdown",
   "metadata": {},
   "source": [
    "Сначала учим адекватно извлекать текущие дату и время из строки, которую выдаёт <code>time.ctime()</code>. Посмотрим, собственно на эту строку:"
   ]
  },
  {
   "cell_type": "code",
   "execution_count": 20,
   "metadata": {},
   "outputs": [
    {
     "name": "stdout",
     "output_type": "stream",
     "text": [
      "Mon Jun  4 12:00:43 2018\n"
     ]
    }
   ],
   "source": [
    "print(time.ctime())"
   ]
  },
  {
   "cell_type": "markdown",
   "metadata": {},
   "source": [
    "Теперь, кажется, очевидно, как появляются следующие функции:"
   ]
  },
  {
   "cell_type": "code",
   "execution_count": 22,
   "metadata": {},
   "outputs": [],
   "source": [
    "def date():\n",
    "    c_time = time.ctime()\n",
    "    c_time = c_time.split()\n",
    "    return [c_time[1], c_time[2]]"
   ]
  },
  {
   "cell_type": "code",
   "execution_count": 23,
   "metadata": {},
   "outputs": [],
   "source": [
    "def cur_time():\n",
    "    c_time = time.ctime()\n",
    "    c_time = c_time.split()\n",
    "    return c_time[3].split(':')"
   ]
  },
  {
   "cell_type": "markdown",
   "metadata": {},
   "source": [
    "Можно посмотреть, как выглядит вывод:"
   ]
  },
  {
   "cell_type": "code",
   "execution_count": 25,
   "metadata": {},
   "outputs": [
    {
     "name": "stdout",
     "output_type": "stream",
     "text": [
      "['Jun', '4']\n"
     ]
    }
   ],
   "source": [
    "print(date())"
   ]
  },
  {
   "cell_type": "code",
   "execution_count": 26,
   "metadata": {},
   "outputs": [
    {
     "name": "stdout",
     "output_type": "stream",
     "text": [
      "['12', '05', '16']\n"
     ]
    }
   ],
   "source": [
    "print(cur_time())"
   ]
  },
  {
   "cell_type": "markdown",
   "metadata": {},
   "source": [
    "Далее делаем функцию, которая будет считать время до следующего попадания минутной стрелки на 12 в секундах"
   ]
  },
  {
   "cell_type": "code",
   "execution_count": 28,
   "metadata": {},
   "outputs": [],
   "source": [
    "def to_next_hour(c_time):\n",
    "    return (60 - int(c_time[1])) * 60 + 60 - int(c_time[2])"
   ]
  },
  {
   "cell_type": "markdown",
   "metadata": {},
   "source": [
    "Если подставить туда вместо параметра результат функции <code>cur_time()</code>, то получим искомое:"
   ]
  },
  {
   "cell_type": "code",
   "execution_count": 30,
   "metadata": {},
   "outputs": [
    {
     "name": "stdout",
     "output_type": "stream",
     "text": [
      "3057\n"
     ]
    }
   ],
   "source": [
    "print(to_next_hour(cur_time()))"
   ]
  },
  {
   "cell_type": "markdown",
   "metadata": {},
   "source": [
    "Чтобы сделать удобнее подсчёт времени, создадим функцию подсчёта дней, прошедших с начала каникул:"
   ]
  },
  {
   "cell_type": "code",
   "execution_count": 34,
   "metadata": {},
   "outputs": [],
   "source": [
    "def number_of_day(c_time):\n",
    "    if c_time[0] == 'Jun':\n",
    "        return int(c_time[1]) + 8 #В мае 2018 года 8 свободных дней\n",
    "    elif c_time[0] == 'Jul':\n",
    "        return int(c_time[1]) + 38 #В июне 2018 года 30 свободных дней\n",
    "    else:\n",
    "        return int(c_time[1]) + 69 #В июле 2018 года 31 свободный день"
   ]
  },
  {
   "cell_type": "markdown",
   "metadata": {},
   "source": [
    "Сюда в качестве параметра подставляется <code>date()</code>:"
   ]
  },
  {
   "cell_type": "code",
   "execution_count": 36,
   "metadata": {},
   "outputs": [
    {
     "name": "stdout",
     "output_type": "stream",
     "text": [
      "12\n"
     ]
    }
   ],
   "source": [
    "print(number_of_day(date()))"
   ]
  },
  {
   "cell_type": "markdown",
   "metadata": {},
   "source": [
    "Теперь осталось только написать функцию, которая будет менять название беседы:"
   ]
  },
  {
   "cell_type": "code",
   "execution_count": 41,
   "metadata": {},
   "outputs": [],
   "source": [
    "def old_change_name():\n",
    "    global u_log, u_pas, uid\n",
    "    hours = (number_of_day(date()) - 1) * 24 + int(cur_time()[0]) #число часов с начала каникул\n",
    "    vk = vk_api.VkApi(login = u_log, password = u_pas) \n",
    "    #в предыдущей строке глобальные переменные u_log и u_pas, в которых лежат логин и пароль, помогают войти в ВК\n",
    "    vk.auth() #вход в ВК\n",
    "    vk.method('messages.editChat', {'chat_id':int(uid), 'title':str(9 + hours / 2400) + ' Д'})\n",
    "    #в uid лежит строка с chat_id, названием становится необходимая дробь\n",
    "    return 0"
   ]
  },
  {
   "cell_type": "markdown",
   "metadata": {},
   "source": [
    "Проверим, какую строку выдаст в название беседы функция, если бы её запустили сегодня, 4 июня, в 11:00 (нам надо, чтобы дробь была периодической). Для этого \"сжульничаем\", заменив в определении переменной <code>hours</code> <code>cur_time()[0]</code> на <code>'11'</code>:"
   ]
  },
  {
   "cell_type": "code",
   "execution_count": 44,
   "metadata": {},
   "outputs": [
    {
     "name": "stdout",
     "output_type": "stream",
     "text": [
      "9.114583333333334 Д\n"
     ]
    }
   ],
   "source": [
    "hours = (number_of_day(date()) - 1) * 24 + int('11')\n",
    "title = str(9 + hours / 2400) + ' Д'\n",
    "print(title)"
   ]
  },
  {
   "cell_type": "markdown",
   "metadata": {},
   "source": [
    "Это очень некрасиво. Давайте напишем код, который будет обрамлять период в красивенькие круглые скобки за адекватное время и адекватную память. Без доказательств воспользуемся следующим фактом: длина наименьшего предпериода правильной несократимой дроби со знаменателем $2^a5^bk$, где $a, \\ b, \\ k \\in \\mathbb{Z_+}$ и $\\text{НОД}(k, 10) = 1$ -- это $max(a, b)$ (далее будем называть это Леммой 1)."
   ]
  },
  {
   "cell_type": "markdown",
   "metadata": {},
   "source": [
    "Далее. Дробь нам, как видим, придётся сокращать, поэтому запасёмся алгоритмом Евклида:)"
   ]
  },
  {
   "cell_type": "code",
   "execution_count": 46,
   "metadata": {},
   "outputs": [],
   "source": [
    "def gcd(a, b):\n",
    "    while b != 0:\n",
    "        a, b = b, a % b\n",
    "    return a"
   ]
  },
  {
   "cell_type": "markdown",
   "metadata": {},
   "source": [
    "Теперь функция подсчёта длины предпериода с учётом Леммы 1:"
   ]
  },
  {
   "cell_type": "code",
   "execution_count": 48,
   "metadata": {},
   "outputs": [],
   "source": [
    "def pre_period(n):\n",
    "    f_counter = 0\n",
    "    while n % 5 == 0:\n",
    "        n //= 5\n",
    "        f_counter += 1\n",
    "    t_counter = 0\n",
    "    while n % 2 == 0:\n",
    "        n //= 2\n",
    "        t_counter += 1\n",
    "    return max(f_counter, t_counter)"
   ]
  },
  {
   "cell_type": "markdown",
   "metadata": {},
   "source": [
    "А дальше -- простое деление в столбик: пока шагов меньше, чем длина предпериода, делим. Как только достигли конца предпериода, запоминаем остаток. И ждём повторения. Как только повторился -- всё, записываем период в круглые скобки. Реализуется двумя функциями:"
   ]
  },
  {
   "cell_type": "code",
   "execution_count": 50,
   "metadata": {},
   "outputs": [],
   "source": [
    "def dec_period(a, b, PrePeriod):\n",
    "    res = \"\"\n",
    "    end = False\n",
    "    counter = 0\n",
    "    while not end:\n",
    "        a %= b\n",
    "        a *= 10\n",
    "        if a == 0:\n",
    "            end = True\n",
    "        if counter == PrePeriod and not end:\n",
    "            old_a = a\n",
    "            res += \"(\"\n",
    "        elif counter > PrePeriod:\n",
    "            if a == old_a:\n",
    "                res += \")\"\n",
    "                end = True\n",
    "        counter += 1\n",
    "        if not end:\n",
    "            res += str(a // b)\n",
    "    return res\n",
    "\n",
    "def periodic_number(a, b):\n",
    "    a, b = a // gcd(a, b), b // gcd(a, b)\n",
    "    ans = str(a // b) + \".\"\n",
    "    a %= b\n",
    "    PrePeriod = pre_period(b)\n",
    "    return ans + dec_period(a, b, PrePeriod)"
   ]
  },
  {
   "cell_type": "markdown",
   "metadata": {},
   "source": [
    "Ура! Теперь мы готовы написать окончательную функцию изменения названия беседы!"
   ]
  },
  {
   "cell_type": "code",
   "execution_count": 61,
   "metadata": {},
   "outputs": [],
   "source": [
    "def change_name():\n",
    "    global u_log, u_pas, uid\n",
    "    hours = (number_of_day(date()) - 1) * 24 + int(cur_time()[0])\n",
    "    vk = vk_api.VkApi(login = u_log, password = u_pas)\n",
    "    vk.auth()\n",
    "    vk.method('messages.editChat', {'chat_id':int(uid), 'title':periodic_number((9 * 2400 + hours), 2400)+ ' Д'})\n",
    "    return 0"
   ]
  },
  {
   "cell_type": "markdown",
   "metadata": {},
   "source": [
    "Тело программы совсем маленьким будет:"
   ]
  },
  {
   "cell_type": "code",
   "execution_count": 62,
   "metadata": {},
   "outputs": [
    {
     "name": "stdout",
     "output_type": "stream",
     "text": [
      "Success\n"
     ]
    }
   ],
   "source": [
    "fin = open('fin.txt', 'r')\n",
    "user_data = fin.readlines()[0].split()\n",
    "u_log, u_pas, uid = user_data[0], user_data[1], user_data[2]\n",
    "change_name()\n",
    "print('Success')\n",
    "#Дальше всё закомменчу, потому что если запустить, то работать будет до 1 сентября(\n",
    "#time.sleep(to_next_hour(cur_time()) + 10)\n",
    "#while date() != ['Sep', '1']:\n",
    "    #change_name()\n",
    "    #print('Success')\n",
    "    #time.sleep(3600)\n",
    "fin.close()"
   ]
  },
  {
   "cell_type": "markdown",
   "metadata": {},
   "source": [
    "ВКонтакте выдаёт чёт такое:\n",
    "\"Иван Карпов изменил название беседы: «9 Д» → «9.11541(6) Д»\""
   ]
  },
  {
   "cell_type": "markdown",
   "metadata": {},
   "source": [
    "Далее я арендовал vps на ubuntu 16.04 и залил туда код c github (он лежит тут https://github.com/karp57/D20chat/blob/master/Date.py)\n",
    "Если Вы так никогда не развлекались, то пошаговая инструкция (работаем чрез консольку):"
   ]
  },
  {
   "cell_type": "markdown",
   "metadata": {},
   "source": [
    "Если python3 не устанволен заранее, то делаем <code>sudo apt install python3.6</code>\n",
    "Далее, \n",
    "<br />\n",
    "<code>sudo apt install python3-pip</code>\n",
    "<br />\n",
    "<code>sudo apt update</code>\n",
    "<br />\n",
    "<code>sudo apt-get install git</code>\n",
    "<br />\n",
    "<code>sudo apt update</code>\n",
    "<br />\n",
    "<code>pip3 install vk </code>\n",
    "<br />\n",
    "<code>pip3 install vk_api</code>\n",
    "<br />\n",
    "<code>git clone https://github.com/karp57/D20chat.git</code>\n",
    "<br />\n",
    "<code>cd ~/D20chat</code>\n",
    "<br />\n",
    "<code>touch fin.txt</code>\n",
    "<br />\n",
    "(Здесь нужно заполнить fin.txt по указанному где-то наверху этого текста шаблону через редактор Vim)\n",
    "<br />\n",
    "<code>python3 Date.py</code>"
   ]
  },
  {
   "cell_type": "markdown",
   "metadata": {},
   "source": [
    "После этого оно должно заработать и выдать <code>Success</code>. Если не заработало -- пишите мне в https://vk.com/ivankarpov057 ! "
   ]
  }
 ],
 "metadata": {
  "kernelspec": {
   "display_name": "Python 3",
   "language": "python",
   "name": "python3"
  },
  "language_info": {
   "codemirror_mode": {
    "name": "ipython",
    "version": 3
   },
   "file_extension": ".py",
   "mimetype": "text/x-python",
   "name": "python",
   "nbconvert_exporter": "python",
   "pygments_lexer": "ipython3",
   "version": "3.6.5"
  }
 },
 "nbformat": 4,
 "nbformat_minor": 2
}
